{
 "cells": [
  {
   "cell_type": "markdown",
   "metadata": {},
   "source": [
    "## Softmax"
   ]
  },
  {
   "cell_type": "code",
   "execution_count": 1,
   "metadata": {},
   "outputs": [],
   "source": [
    "import numpy as np"
   ]
  },
  {
   "cell_type": "code",
   "execution_count": 19,
   "metadata": {},
   "outputs": [],
   "source": [
    "vector = np.array([11231, 999, 123142])"
   ]
  },
  {
   "cell_type": "code",
   "execution_count": 28,
   "metadata": {},
   "outputs": [],
   "source": [
    "vector = np.array([-10, 10, 24])"
   ]
  },
  {
   "cell_type": "code",
   "execution_count": 33,
   "metadata": {},
   "outputs": [],
   "source": [
    "def softmax(vec):\n",
    "    vec -= np.max(vec)\n",
    "    exp = np.exp(vec)\n",
    "    return exp / np.sum(exp)"
   ]
  },
  {
   "cell_type": "code",
   "execution_count": 32,
   "metadata": {},
   "outputs": [
    {
     "data": {
      "text/plain": [
       "array([1.71390701e-15, 8.31528028e-07, 9.99999168e-01])"
      ]
     },
     "execution_count": 32,
     "metadata": {},
     "output_type": "execute_result"
    }
   ],
   "source": [
    "softmax(vector)"
   ]
  },
  {
   "cell_type": "markdown",
   "metadata": {},
   "source": [
    "## Assignment-04 基于维基百科的词向量构建"
   ]
  },
  {
   "cell_type": "markdown",
   "metadata": {},
   "source": [
    "在本章，你将使用Gensim和维基百科获得你的第一批词向量，并且感受词向量的基本过程。"
   ]
  },
  {
   "cell_type": "markdown",
   "metadata": {},
   "source": [
    "![](https://www.kaggleusercontent.com/kf/1018109/eyJhbGciOiJkaXIiLCJlbmMiOiJBMTI4Q0JDLUhTMjU2In0..JNNggcCCDcYEypvp7ZDwOA.cM9CuDpuCKo0K_ZkMFLAUvhfip0P6SRZ4LddwgTtgwz8pQy1dZeGVJWi6u81KSpAFNSi7YximVVJbPw8xsFySdWlqoUwvSER-LLIRfmlpsCvtDt90NaLYT2FHlwl0tfF-1MKtiFsWlGQ8LGo40hL3ccBSwMZy214kGJf9bNkW_g.kZbF5sgN5qha3zhjilfSDg/__results___files/__results___9_0.png)"
   ]
  },
  {
   "cell_type": "markdown",
   "metadata": {},
   "source": [
    "## Step-01: Download Wikipedia Chinese Corpus: https://dumps.wikimedia.org/zhwiki/20190720/"
   ]
  },
  {
   "cell_type": "markdown",
   "metadata": {},
   "source": [
    "第一步：使用维基百科下载中文语料库"
   ]
  },
  {
   "cell_type": "markdown",
   "metadata": {},
   "source": [
    "## Step-02: Using https://github.com/attardi/wikiextractor to extract the wikipedia corpus"
   ]
  },
  {
   "cell_type": "markdown",
   "metadata": {},
   "source": [
    "第二步：使用python wikipedia extractor抽取维基百科的内容"
   ]
  },
  {
   "cell_type": "markdown",
   "metadata": {},
   "source": [
    "## Step-03: Using gensim get word vectors: \n",
    "\n",
    "Reference: \n",
    "\n",
    "+ https://radimrehurek.com/gensim/models/word2vec.html\n",
    "+ https://www.kaggle.com/jeffd23/visualizing-word-vectors-with-t-sne"
   ]
  },
  {
   "cell_type": "markdown",
   "metadata": {},
   "source": [
    "第三步：参考Gensim的文档和Kaggle的参考文档，获得词向量。 注意，你要使用Jieba分词把维基百科的内容切分成一个一个单词，然后存进新的文件中。然后，你需要用Gensim的LineSentence这个类进行文件的读取。\n",
    "\n",
    "在训练成词向量Model."
   ]
  },
  {
   "cell_type": "markdown",
   "metadata": {},
   "source": [
    "### Data Cleaning"
   ]
  },
  {
   "cell_type": "code",
   "execution_count": 1,
   "metadata": {},
   "outputs": [],
   "source": [
    "import jieba"
   ]
  },
  {
   "cell_type": "code",
   "execution_count": 2,
   "metadata": {},
   "outputs": [],
   "source": [
    "def remove_punc(str_test):\n",
    "    \n",
    "    # get the punctutation to be rmoved\n",
    "    r_eng = '[’!\"#$%&\\'()*+,-./:;<=>?@[\\\\]^_`{|}~]+'\n",
    "    r_chn_p1 = \"''！？｡＂＃＄％＆＇。（）＊＋，－／：；＜＝＞＠［＼］＾＿｀｛｜｝～｟｠｢｣､、\"\n",
    "    r_chn_p2 = \"〃》「」『』【】〔〕〖〗〘〙〚〛〜〝〞〟〰〾〿–—‘’‛“”„‟…‧﹏.''\"\n",
    "    r = r_chn_p1 + r_chn_p2 + r_eng\n",
    "\n",
    "    word_list = jieba.lcut(str_test) \n",
    "    clean_sentence = \" \".join(x for x in word_list if x not in r)\n",
    "    \n",
    "    return clean_sentence"
   ]
  },
  {
   "cell_type": "code",
   "execution_count": 3,
   "metadata": {},
   "outputs": [],
   "source": [
    "def jieba_cut(origin, target):\n",
    "    f = open(origin, \"r\", encoding = \"utf-8\")\n",
    "    tar = open(target,\"a+\", encoding = \"utf-8\") # use a+ to write in the same files\n",
    "    counter = 0\n",
    "    for line in f:\n",
    "        line_stripped = line.strip()\n",
    "        if len(line_stripped) == 0 or line_stripped[0] == \"<\":\n",
    "            continue\n",
    "        line_final = remove_punc(line_stripped)+\"\\n\"\n",
    "        tar.writelines(line_final)\n",
    "        \n",
    "        \n",
    "    f.close()\n",
    "    tar.close()\n",
    "    \n",
    "    return\n",
    "        "
   ]
  },
  {
   "cell_type": "code",
   "execution_count": 5,
   "metadata": {},
   "outputs": [],
   "source": [
    "jieba_cut(\"test.txt\", \"test_result.txt\")"
   ]
  },
  {
   "cell_type": "code",
   "execution_count": 7,
   "metadata": {},
   "outputs": [
    {
     "name": "stdout",
     "output_type": "stream",
     "text": [
      "['C:\\\\Users\\\\Haobo\\\\Desktop\\\\Artificial-Intelligence-NLP\\\\wiki\\\\AA\\\\wiki_00', 'C:\\\\Users\\\\Haobo\\\\Desktop\\\\Artificial-Intelligence-NLP\\\\wiki\\\\AA\\\\wiki_01', 'C:\\\\Users\\\\Haobo\\\\Desktop\\\\Artificial-Intelligence-NLP\\\\wiki\\\\AA\\\\wiki_02', 'C:\\\\Users\\\\Haobo\\\\Desktop\\\\Artificial-Intelligence-NLP\\\\wiki\\\\AA\\\\wiki_03', 'C:\\\\Users\\\\Haobo\\\\Desktop\\\\Artificial-Intelligence-NLP\\\\wiki\\\\AA\\\\wiki_04']\n",
      "1298\n"
     ]
    }
   ],
   "source": [
    "import os\n",
    "# get the path for all wiki files\n",
    "wiki_path = r\"C:\\Users\\Haobo\\Desktop\\Artificial-Intelligence-NLP\\wiki\"\n",
    "wiki_file_lis = []\n",
    "for wiki_dir in os.listdir(wiki_path):\n",
    "    for wiki_file in os.listdir(wiki_path + \"\\{}\".format(wiki_dir) ):\n",
    "        wiki_file_lis.append(wiki_path + \"\\{}\".format(wiki_dir) + \"\\{}\".format(wiki_file))\n",
    "print(wiki_file_lis[0:5])\n",
    "print(len(wiki_file_lis))"
   ]
  },
  {
   "cell_type": "code",
   "execution_count": 8,
   "metadata": {},
   "outputs": [
    {
     "name": "stdout",
     "output_type": "stream",
     "text": [
      "0\n",
      "10\n",
      "20\n",
      "30\n",
      "40\n",
      "50\n",
      "60\n",
      "70\n",
      "80\n",
      "90\n",
      "100\n",
      "110\n",
      "120\n",
      "130\n",
      "140\n",
      "150\n",
      "160\n",
      "170\n",
      "180\n",
      "190\n",
      "200\n",
      "210\n",
      "220\n",
      "230\n",
      "240\n",
      "250\n",
      "260\n",
      "270\n",
      "280\n",
      "290\n",
      "300\n",
      "310\n",
      "320\n",
      "330\n",
      "340\n",
      "350\n",
      "360\n",
      "370\n",
      "380\n",
      "390\n",
      "400\n",
      "410\n",
      "420\n",
      "430\n",
      "440\n",
      "450\n",
      "460\n",
      "470\n",
      "480\n",
      "490\n",
      "500\n",
      "510\n",
      "520\n",
      "530\n",
      "540\n",
      "550\n",
      "560\n",
      "570\n",
      "580\n",
      "590\n",
      "600\n",
      "610\n",
      "620\n",
      "630\n",
      "640\n",
      "650\n",
      "660\n",
      "670\n",
      "680\n",
      "690\n",
      "700\n",
      "710\n",
      "720\n",
      "730\n",
      "740\n",
      "750\n",
      "760\n",
      "770\n",
      "780\n",
      "790\n",
      "800\n",
      "810\n",
      "820\n",
      "830\n",
      "840\n",
      "850\n",
      "860\n",
      "870\n",
      "880\n",
      "890\n",
      "900\n",
      "910\n",
      "920\n",
      "930\n",
      "940\n",
      "950\n",
      "960\n",
      "970\n",
      "980\n",
      "990\n",
      "1000\n",
      "1010\n",
      "1020\n",
      "1030\n",
      "1040\n",
      "1050\n",
      "1060\n",
      "1070\n",
      "1080\n",
      "1090\n",
      "1100\n",
      "1110\n",
      "1120\n",
      "1130\n",
      "1140\n",
      "1150\n",
      "1160\n",
      "1170\n",
      "1180\n",
      "1190\n",
      "1200\n",
      "1210\n",
      "1220\n",
      "1230\n",
      "1240\n",
      "1250\n",
      "1260\n",
      "1270\n",
      "1280\n",
      "1290\n"
     ]
    }
   ],
   "source": [
    "path = r\"C:\\Users\\Haobo\\Desktop\\Artificial-Intelligence-NLP\"\n",
    "counter = 0\n",
    "for wiki_file in wiki_file_lis:\n",
    "    if counter % 10 == 0:\n",
    "        print(counter)\n",
    "    jieba_cut(wiki_file, path + \"\\wiki_clean_result.txt\")\n",
    "    counter += 1"
   ]
  },
  {
   "cell_type": "code",
   "execution_count": null,
   "metadata": {},
   "outputs": [],
   "source": [
    "# loop through all the files "
   ]
  },
  {
   "cell_type": "code",
   "execution_count": 80,
   "metadata": {},
   "outputs": [
    {
     "name": "stdout",
     "output_type": "stream",
     "text": [
      "同年 冬 蘇峻 墮馬 被 殺 溫嶠 於 是 設立行 臺 並以 王舒監 浙江 東五郡 軍事 王舒 亦 派兵 平定 次年 蘇逸 於 石頭 城兵 敗後東 逃 的 殘餘 力量\n",
      "同年冬，蘇峻墮馬被殺，溫嶠於是設立行臺，並以王舒監浙江東五郡軍事。王舒亦派兵平定次年蘇逸於石頭城兵敗後東逃的殘餘力量。\n",
      "同年冬，蘇峻墮馬被殺，溫嶠於是設立行臺，並以王舒監浙江東五郡軍事。王舒亦派兵平定次年蘇逸於石頭城兵敗後東逃的殘餘力量。\n"
     ]
    }
   ],
   "source": [
    "str_test = \"同年冬，蘇峻墮馬被殺，溫嶠於是設立行臺，並以王舒監浙江東五郡軍事。王舒亦派兵平定次年蘇逸於石頭城兵敗後東逃的殘餘力量。\"\n",
    "print(remove_punc(str_test))\n",
    "a = str_test.strip()\n",
    "print(str_test)\n",
    "print(a)\n"
   ]
  },
  {
   "cell_type": "code",
   "execution_count": 66,
   "metadata": {},
   "outputs": [
    {
     "name": "stdout",
     "output_type": "stream",
     "text": [
      "['同年', '冬', '，', '蘇峻', '墮馬', '被', '殺', '，', '溫嶠', '於', '是', '設立行', '臺', '，', '並以', '王舒監', '浙江', '東五郡', '軍事', '。', '王舒', '亦', '派兵', '平定', '次年', '蘇逸', '於', '石頭', '城兵', '敗後東', '逃', '的', '殘餘', '力量', '。']\n",
      "同年 冬 蘇峻 墮馬 被 殺 溫嶠 於 是 設立行 臺 並以 王舒監 浙江 東五郡 軍事 王舒 亦 派兵 平定 次年 蘇逸 於 石頭 城兵 敗後東 逃 的 殘餘 力量\n"
     ]
    }
   ],
   "source": [
    "def remove_punc(str_test):\n",
    "    \n",
    "    # get the punctutation to be rmoved\n",
    "    r_eng = '[’!\"#$%&\\'()*+,-./:;<=>?@[\\\\]^_`{|}~]+'\n",
    "    r_chn_p1 = \"''！？｡＂＃＄％＆＇。（）＊＋，－／：；＜＝＞＠［＼］＾＿｀｛｜｝～｟｠｢｣､、\"\n",
    "    r_chn_p2 = \"〃》「」『』【】〔〕〖〗〘〙〚〛〜〝〞〟〰〾〿–—‘’‛“”„‟…‧﹏.''\"\n",
    "    r = r_chn_p1 + r_chn_p2 + r_eng\n",
    "\n",
    "    word_list = jieba.lcut(str_test)\n",
    "    clean_sentence = \" \".join(x for x in word_list if x not in r)\n",
    "    \n",
    "    return clean_sentence"
   ]
  },
  {
   "cell_type": "code",
   "execution_count": 46,
   "metadata": {},
   "outputs": [
    {
     "name": "stdout",
     "output_type": "stream",
     "text": [
      "!\"#$%&'()*+,-./:;<=>?@[\\]^_`{|}~\n"
     ]
    }
   ],
   "source": [
    "import string\n",
    "print(string.punctuation)\n"
   ]
  },
  {
   "cell_type": "markdown",
   "metadata": {},
   "source": [
    "## Step-04: Using some words to test your preformance. "
   ]
  },
  {
   "cell_type": "markdown",
   "metadata": {},
   "source": [
    "第四步，测试同义词，找几个单词。"
   ]
  },
  {
   "cell_type": "markdown",
   "metadata": {},
   "source": [
    "## Step-05: Using visualization tools: https://www.kaggle.com/jeffd23/visualizing-word-vectors-with-t-sne"
   ]
  },
  {
   "cell_type": "markdown",
   "metadata": {},
   "source": [
    "第五步：使用Kaggle给出的T-SEN进行词向量的可视化。"
   ]
  }
 ],
 "metadata": {
  "kernelspec": {
   "display_name": "Python 3",
   "language": "python",
   "name": "python3"
  },
  "language_info": {
   "codemirror_mode": {
    "name": "ipython",
    "version": 3
   },
   "file_extension": ".py",
   "mimetype": "text/x-python",
   "name": "python",
   "nbconvert_exporter": "python",
   "pygments_lexer": "ipython3",
   "version": "3.7.0"
  }
 },
 "nbformat": 4,
 "nbformat_minor": 2
}
