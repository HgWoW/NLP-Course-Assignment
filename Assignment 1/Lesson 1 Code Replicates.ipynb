{
 "cells": [
  {
   "cell_type": "markdown",
   "metadata": {},
   "source": [
    "### Part 1-1 Grammar Generation"
   ]
  },
  {
   "cell_type": "code",
   "execution_count": 1,
   "metadata": {},
   "outputs": [],
   "source": [
    "simple_grammar = \"\"\"\n",
    "sentence => noun_phrase verb_phrase\n",
    "noun_phrase => Article Adj* noun\n",
    "Adj* => null | Adj Adj*\n",
    "verb_phrase => verb noun_phrase\n",
    "Article =>  一个 | 这个\n",
    "noun =>   女人 |  篮球 | 桌子 | 小猫\n",
    "verb => 看着   |  坐在 |  听着 | 看见\n",
    "Adj =>  蓝色的 | 好看的 | 小小的\n",
    "\"\"\""
   ]
  },
  {
   "cell_type": "code",
   "execution_count": 16,
   "metadata": {},
   "outputs": [],
   "source": [
    "import random\n",
    "\n",
    "def adj(): return random.choice(\"蓝色的 | 好看的 | 小小的\".split(\"|\")).split()[0]\n",
    "\n",
    "def adj_star(): return random.choice([lambda : '', lambda : adj() + adj_star()])()"
   ]
  },
  {
   "cell_type": "code",
   "execution_count": 17,
   "metadata": {},
   "outputs": [
    {
     "data": {
      "text/plain": [
       "'好看的'"
      ]
     },
     "execution_count": 17,
     "metadata": {},
     "output_type": "execute_result"
    }
   ],
   "source": [
    "adj_star()"
   ]
  },
  {
   "cell_type": "markdown",
   "metadata": {},
   "source": [
    "### Part 1-2 Seperate the change of grammar and sentence generation"
   ]
  },
  {
   "cell_type": "code",
   "execution_count": 19,
   "metadata": {},
   "outputs": [],
   "source": [
    "adj_grammar = \"\"\"\n",
    "Adj* => null | Adj Adj*\n",
    "Adj =>  蓝色的 | 好看的 | 小小的\n",
    "\"\"\""
   ]
  },
  {
   "cell_type": "code",
   "execution_count": 26,
   "metadata": {},
   "outputs": [],
   "source": [
    "def create_grammar(grammar_str, split = \"=>\", line_split = \"\\n\"):\n",
    "    grammar = {}\n",
    "    for line in grammar_str.split(line_split):\n",
    "        if not line.strip(): continue\n",
    "        exp, stmt = line.split(split)\n",
    "        grammar[exp.strip()] = [s.split() for s in stmt.split(\"|\")]\n",
    "    return grammar"
   ]
  },
  {
   "cell_type": "code",
   "execution_count": 28,
   "metadata": {},
   "outputs": [
    {
     "data": {
      "text/plain": [
       "[['null'], ['Adj', 'Adj*']]"
      ]
     },
     "execution_count": 28,
     "metadata": {},
     "output_type": "execute_result"
    }
   ],
   "source": [
    "grammar = create_grammar(adj_grammar)\n",
    "grammar[\"Adj*\"]"
   ]
  },
  {
   "cell_type": "code",
   "execution_count": 29,
   "metadata": {},
   "outputs": [],
   "source": [
    "choice = random.choice\n",
    "\n",
    "def generate(gram, target):\n",
    "    if target not in gram: return target # means target is a terminal expression\n",
    "    \n",
    "    expaned = [generate(gram, t) for t in choice(gram[target])]\n",
    "    return \"\".join([e if e!=\"\\n\" else \"\\n\" for e in expaned if e != 'null'])"
   ]
  },
  {
   "cell_type": "code",
   "execution_count": 30,
   "metadata": {},
   "outputs": [],
   "source": [
    "example_grammar = create_grammar(simple_grammar)"
   ]
  },
  {
   "cell_type": "code",
   "execution_count": 34,
   "metadata": {},
   "outputs": [
    {
     "data": {
      "text/plain": [
       "'这个好看的女人听着一个女人'"
      ]
     },
     "execution_count": 34,
     "metadata": {},
     "output_type": "execute_result"
    }
   ],
   "source": [
    "generate(gram = example_grammar, target = 'sentence')"
   ]
  },
  {
   "cell_type": "markdown",
   "metadata": {},
   "source": [
    "### Part 2 Data-Driven Language Model"
   ]
  },
  {
   "cell_type": "code",
   "execution_count": 42,
   "metadata": {},
   "outputs": [],
   "source": [
    "filename2 = \"sqlResult_1558435.csv\"\n",
    "import pandas as pd\n",
    "content = pd.read_csv(filename2, encoding = \"gb18030\")"
   ]
  },
  {
   "cell_type": "code",
   "execution_count": 47,
   "metadata": {},
   "outputs": [
    {
     "data": {
      "text/html": [
       "<div>\n",
       "<style scoped>\n",
       "    .dataframe tbody tr th:only-of-type {\n",
       "        vertical-align: middle;\n",
       "    }\n",
       "\n",
       "    .dataframe tbody tr th {\n",
       "        vertical-align: top;\n",
       "    }\n",
       "\n",
       "    .dataframe thead th {\n",
       "        text-align: right;\n",
       "    }\n",
       "</style>\n",
       "<table border=\"1\" class=\"dataframe\">\n",
       "  <thead>\n",
       "    <tr style=\"text-align: right;\">\n",
       "      <th></th>\n",
       "      <th>id</th>\n",
       "      <th>author</th>\n",
       "      <th>source</th>\n",
       "      <th>content</th>\n",
       "      <th>feature</th>\n",
       "      <th>title</th>\n",
       "      <th>url</th>\n",
       "    </tr>\n",
       "  </thead>\n",
       "  <tbody>\n",
       "    <tr>\n",
       "      <th>0</th>\n",
       "      <td>89617</td>\n",
       "      <td>NaN</td>\n",
       "      <td>快科技@http://www.kkj.cn/</td>\n",
       "      <td>此外，自本周（6月12日）起，除小米手机6等15款机型外，其余机型已暂停更新发布（含开发版/...</td>\n",
       "      <td>{\"type\":\"科技\",\"site\":\"cnbeta\",\"commentNum\":\"37\"...</td>\n",
       "      <td>小米MIUI 9首批机型曝光：共计15款</td>\n",
       "      <td>http://www.cnbeta.com/articles/tech/623597.htm</td>\n",
       "    </tr>\n",
       "    <tr>\n",
       "      <th>1</th>\n",
       "      <td>89616</td>\n",
       "      <td>NaN</td>\n",
       "      <td>快科技@http://www.kkj.cn/</td>\n",
       "      <td>骁龙835作为唯一通过Windows 10桌面平台认证的ARM处理器，高通强调，不会因为只考...</td>\n",
       "      <td>{\"type\":\"科技\",\"site\":\"cnbeta\",\"commentNum\":\"15\"...</td>\n",
       "      <td>骁龙835在Windows 10上的性能表现有望改善</td>\n",
       "      <td>http://www.cnbeta.com/articles/tech/623599.htm</td>\n",
       "    </tr>\n",
       "    <tr>\n",
       "      <th>2</th>\n",
       "      <td>89615</td>\n",
       "      <td>NaN</td>\n",
       "      <td>快科技@http://www.kkj.cn/</td>\n",
       "      <td>此前的一加3T搭载的是3400mAh电池，DashCharge快充规格为5V/4A。\\r\\n...</td>\n",
       "      <td>{\"type\":\"科技\",\"site\":\"cnbeta\",\"commentNum\":\"18\"...</td>\n",
       "      <td>一加手机5细节曝光：3300mAh、充半小时用1天</td>\n",
       "      <td>http://www.cnbeta.com/articles/tech/623601.htm</td>\n",
       "    </tr>\n",
       "    <tr>\n",
       "      <th>3</th>\n",
       "      <td>89614</td>\n",
       "      <td>NaN</td>\n",
       "      <td>新华社</td>\n",
       "      <td>这是6月18日在葡萄牙中部大佩德罗冈地区拍摄的被森林大火烧毁的汽车。新华社记者张立云摄\\r\\n</td>\n",
       "      <td>{\"type\":\"国际新闻\",\"site\":\"环球\",\"commentNum\":\"0\",\"j...</td>\n",
       "      <td>葡森林火灾造成至少62人死亡 政府宣布进入紧急状态（组图）</td>\n",
       "      <td>http://world.huanqiu.com/hot/2017-06/10866126....</td>\n",
       "    </tr>\n",
       "    <tr>\n",
       "      <th>4</th>\n",
       "      <td>89613</td>\n",
       "      <td>胡淑丽_MN7479</td>\n",
       "      <td>深圳大件事</td>\n",
       "      <td>（原标题：44岁女子跑深圳约会网友被拒，暴雨中裸身奔走……）\\r\\n@深圳交警微博称：昨日清...</td>\n",
       "      <td>{\"type\":\"新闻\",\"site\":\"网易热门\",\"commentNum\":\"978\",...</td>\n",
       "      <td>44岁女子约网友被拒暴雨中裸奔 交警为其披衣相随</td>\n",
       "      <td>http://news.163.com/17/0618/00/CN617P3Q0001875...</td>\n",
       "    </tr>\n",
       "  </tbody>\n",
       "</table>\n",
       "</div>"
      ],
      "text/plain": [
       "      id      author                  source  \\\n",
       "0  89617         NaN  快科技@http://www.kkj.cn/   \n",
       "1  89616         NaN  快科技@http://www.kkj.cn/   \n",
       "2  89615         NaN  快科技@http://www.kkj.cn/   \n",
       "3  89614         NaN                     新华社   \n",
       "4  89613  胡淑丽_MN7479                   深圳大件事   \n",
       "\n",
       "                                             content  \\\n",
       "0  此外，自本周（6月12日）起，除小米手机6等15款机型外，其余机型已暂停更新发布（含开发版/...   \n",
       "1  骁龙835作为唯一通过Windows 10桌面平台认证的ARM处理器，高通强调，不会因为只考...   \n",
       "2  此前的一加3T搭载的是3400mAh电池，DashCharge快充规格为5V/4A。\\r\\n...   \n",
       "3    这是6月18日在葡萄牙中部大佩德罗冈地区拍摄的被森林大火烧毁的汽车。新华社记者张立云摄\\r\\n   \n",
       "4  （原标题：44岁女子跑深圳约会网友被拒，暴雨中裸身奔走……）\\r\\n@深圳交警微博称：昨日清...   \n",
       "\n",
       "                                             feature  \\\n",
       "0  {\"type\":\"科技\",\"site\":\"cnbeta\",\"commentNum\":\"37\"...   \n",
       "1  {\"type\":\"科技\",\"site\":\"cnbeta\",\"commentNum\":\"15\"...   \n",
       "2  {\"type\":\"科技\",\"site\":\"cnbeta\",\"commentNum\":\"18\"...   \n",
       "3  {\"type\":\"国际新闻\",\"site\":\"环球\",\"commentNum\":\"0\",\"j...   \n",
       "4  {\"type\":\"新闻\",\"site\":\"网易热门\",\"commentNum\":\"978\",...   \n",
       "\n",
       "                           title  \\\n",
       "0           小米MIUI 9首批机型曝光：共计15款   \n",
       "1     骁龙835在Windows 10上的性能表现有望改善   \n",
       "2      一加手机5细节曝光：3300mAh、充半小时用1天   \n",
       "3  葡森林火灾造成至少62人死亡 政府宣布进入紧急状态（组图）   \n",
       "4       44岁女子约网友被拒暴雨中裸奔 交警为其披衣相随   \n",
       "\n",
       "                                                 url  \n",
       "0     http://www.cnbeta.com/articles/tech/623597.htm  \n",
       "1     http://www.cnbeta.com/articles/tech/623599.htm  \n",
       "2     http://www.cnbeta.com/articles/tech/623601.htm  \n",
       "3  http://world.huanqiu.com/hot/2017-06/10866126....  \n",
       "4  http://news.163.com/17/0618/00/CN617P3Q0001875...  "
      ]
     },
     "execution_count": 47,
     "metadata": {},
     "output_type": "execute_result"
    }
   ],
   "source": [
    "articles = content['content'].tolist()\n",
    "content.head()"
   ]
  },
  {
   "cell_type": "code",
   "execution_count": 48,
   "metadata": {},
   "outputs": [],
   "source": [
    "import re\n",
    "def token(string):\n",
    "    return re.findall('\\w+', string)"
   ]
  },
  {
   "cell_type": "code",
   "execution_count": 50,
   "metadata": {},
   "outputs": [
    {
     "name": "stderr",
     "output_type": "stream",
     "text": [
      "Building prefix dict from the default dictionary ...\n",
      "Dumping model to file cache C:\\Users\\Haobo\\AppData\\Local\\Temp\\jieba.cache\n",
      "Loading model cost 1.151 seconds.\n",
      "Prefix dict has been built succesfully.\n"
     ]
    }
   ],
   "source": [
    "from collections import Counter\n",
    "with_jieba_cut = Counter(jieba.cut(articles[110]))"
   ]
  },
  {
   "cell_type": "code",
   "execution_count": 51,
   "metadata": {},
   "outputs": [
    {
     "data": {
      "text/plain": [
       "[('，', 88),\n",
       " ('的', 73),\n",
       " ('。', 39),\n",
       " ('\\r\\n', 27),\n",
       " ('了', 20),\n",
       " ('们', 18),\n",
       " ('工作队', 16),\n",
       " ('村民', 15),\n",
       " ('收割', 14),\n",
       " ('、', 12)]"
      ]
     },
     "execution_count": 51,
     "metadata": {},
     "output_type": "execute_result"
    }
   ],
   "source": [
    "with_jieba_cut.most_common()[:10]"
   ]
  },
  {
   "cell_type": "code",
   "execution_count": 52,
   "metadata": {},
   "outputs": [
    {
     "data": {
      "text/plain": [
       "89611"
      ]
     },
     "execution_count": 52,
     "metadata": {},
     "output_type": "execute_result"
    }
   ],
   "source": [
    "articles_clean = [\"\".join(token(str(a))) for a in articles]\n",
    "len(articles_clean)"
   ]
  },
  {
   "cell_type": "code",
   "execution_count": 53,
   "metadata": {},
   "outputs": [],
   "source": [
    "filename = 'article_9k.txt'\n",
    "with open(filename, 'w') as f:\n",
    "    for a in articles_clean:\n",
    "        f.write(a + '\\n')"
   ]
  },
  {
   "cell_type": "code",
   "execution_count": 54,
   "metadata": {},
   "outputs": [],
   "source": [
    "import jieba\n",
    "\n",
    "TOKEN = []\n",
    "\n",
    "def cut(string): return list(jieba.cut(string))"
   ]
  },
  {
   "cell_type": "code",
   "execution_count": 57,
   "metadata": {},
   "outputs": [
    {
     "name": "stdout",
     "output_type": "stream",
     "text": [
      "0\n",
      "5000\n",
      "10000\n",
      "15000\n",
      "20000\n",
      "25000\n",
      "30000\n",
      "35000\n",
      "40000\n",
      "45000\n",
      "50000\n"
     ]
    }
   ],
   "source": [
    "for i, line in enumerate(open(filename)):\n",
    "    if i% 5000 == 0: print(i)\n",
    "    \n",
    "    if i > 50000: break\n",
    "    TOKEN += cut(line)"
   ]
  },
  {
   "cell_type": "code",
   "execution_count": 60,
   "metadata": {},
   "outputs": [
    {
     "data": {
      "text/plain": [
       "[('的', 1843644),\n",
       " ('n', 952258),\n",
       " ('在', 679843),\n",
       " ('月', 481778),\n",
       " ('日', 421186),\n",
       " ('新华社', 354875),\n",
       " ('和', 349460),\n",
       " ('了', 321325),\n",
       " ('年', 314087),\n",
       " ('是', 266654),\n",
       " ('\\n', 229223),\n",
       " ('１', 222316),\n",
       " ('０', 214055),\n",
       " ('外代', 208118),\n",
       " ('中', 189712),\n",
       " ('中国', 181557),\n",
       " ('２', 177980),\n",
       " ('2017', 174516),\n",
       " ('将', 160125),\n",
       " ('记者', 157424),\n",
       " ('二线', 154995),\n",
       " ('等', 152190),\n",
       " ('与', 151145),\n",
       " ('为', 149362),\n",
       " ('4', 144735),\n",
       " ('对', 132636),\n",
       " ('照片', 130391),\n",
       " ('也', 126175),\n",
       " ('5', 123891),\n",
       " ('上', 123532),\n",
       " ('有', 121570),\n",
       " ('说', 100540),\n",
       " ('５', 99991),\n",
       " ('发展', 97207),\n",
       " ('他', 97204),\n",
       " ('以', 94505),\n",
       " ('３', 93853),\n",
       " ('４', 90358),\n",
       " ('国际', 88888),\n",
       " ('nn', 88009),\n",
       " ('比赛', 80280),\n",
       " ('到', 79019),\n",
       " ('人', 77486),\n",
       " ('从', 77047),\n",
       " ('６', 76150),\n",
       " ('不', 75125),\n",
       " ('都', 74417),\n",
       " ('6', 73522),\n",
       " ('后', 71724),\n",
       " ('就', 70710),\n",
       " ('并', 69941),\n",
       " ('企业', 69841),\n",
       " ('进行', 67737),\n",
       " ('当日', 67630),\n",
       " ('3', 67152),\n",
       " ('国家', 66998),\n",
       " ('被', 66879),\n",
       " ('７', 66411),\n",
       " ('美国', 66139),\n",
       " ('北京', 64234),\n",
       " ('这', 64079),\n",
       " ('举行', 63155),\n",
       " ('1', 63006),\n",
       " ('2', 62964),\n",
       " ('体育', 62726),\n",
       " ('新', 62620),\n",
       " ('但', 62478),\n",
       " ('n4', 61356),\n",
       " ('个', 60457),\n",
       " ('比', 59153),\n",
       " ('表示', 58565),\n",
       " ('一个', 57726),\n",
       " ('还', 57564),\n",
       " ('我', 57564),\n",
       " ('足球', 57374),\n",
       " ('经济', 57133),\n",
       " ('要', 55909),\n",
       " ('９', 54921),\n",
       " ('工作', 54700),\n",
       " ('已', 53765),\n",
       " ('合作', 52932),\n",
       " ('我们', 52462),\n",
       " ('８', 51946),\n",
       " ('市场', 51506),\n",
       " ('摄', 51425),\n",
       " ('选手', 48729),\n",
       " ('让', 48475),\n",
       " ('建设', 47913),\n",
       " ('通过', 47627),\n",
       " ('公司', 46463),\n",
       " ('时', 46451),\n",
       " ('多', 46408),\n",
       " ('会', 45879),\n",
       " ('问题', 45869),\n",
       " ('日电', 45568),\n",
       " ('而', 45551),\n",
       " ('更', 45171),\n",
       " ('于', 45106),\n",
       " ('下', 45098),\n",
       " ('项目', 44872),\n",
       " ('目前', 44318),\n",
       " ('大', 44147),\n",
       " ('完', 43826),\n",
       " ('一路', 43575),\n",
       " ('n5', 43362),\n",
       " ('一带', 43240),\n",
       " ('活动', 41072),\n",
       " ('联赛', 39929),\n",
       " ('世界', 39733),\n",
       " ('向', 38995),\n",
       " ('成为', 38957),\n",
       " ('服务', 38191),\n",
       " ('球员', 37938),\n",
       " ('没有', 37332),\n",
       " ('自己', 36833),\n",
       " ('今年', 36753),\n",
       " ('重要', 36740),\n",
       " ('全国', 36454),\n",
       " ('队', 36263),\n",
       " ('他们', 36194),\n",
       " ('着', 36174),\n",
       " ('第', 35734),\n",
       " ('社会', 35730),\n",
       " ('晋级', 35622),\n",
       " ('可以', 35590),\n",
       " ('及', 34458),\n",
       " ('文化', 34151),\n",
       " ('10', 33980),\n",
       " ('前', 33653),\n",
       " ('由', 33652),\n",
       " ('地', 33433),\n",
       " ('创新', 33343),\n",
       " ('她', 33292),\n",
       " ('城市', 33233),\n",
       " ('已经', 32668),\n",
       " ('技术', 32612),\n",
       " ('能', 31584),\n",
       " ('提供', 31416),\n",
       " ('相关', 31195),\n",
       " ('把', 31120),\n",
       " ('投资', 30939),\n",
       " ('其', 30924),\n",
       " ('好', 30883),\n",
       " ('一', 30852),\n",
       " ('认为', 30712),\n",
       " ('实现', 30351),\n",
       " ('战胜', 30089),\n",
       " ('法国', 30026),\n",
       " ('至', 29610),\n",
       " ('7', 29608),\n",
       " ('时间', 29356),\n",
       " ('开始', 29202),\n",
       " ('政府', 28908),\n",
       " ('研究', 28730),\n",
       " ('20', 28719),\n",
       " ('可', 28629),\n",
       " ('同时', 28527),\n",
       " ('决赛', 28420),\n",
       " ('胜', 28333),\n",
       " ('其中', 28192),\n",
       " ('来', 28170),\n",
       " ('方面', 28076),\n",
       " ('地区', 27917),\n",
       " ('总统', 27873),\n",
       " ('作为', 27360),\n",
       " ('以及', 27117),\n",
       " ('给', 26882),\n",
       " ('内', 26853),\n",
       " ('可能', 26661),\n",
       " ('组织', 26420),\n",
       " ('这是', 26385),\n",
       " ('或', 26301),\n",
       " ('全球', 26229),\n",
       " ('中心', 26190),\n",
       " ('数据', 26061),\n",
       " ('增长', 26017),\n",
       " ('主要', 25996),\n",
       " ('据', 25991),\n",
       " ('参加', 25936),\n",
       " ('报道', 25872),\n",
       " ('媒体', 25778),\n",
       " ('8', 25485),\n",
       " ('里', 25456),\n",
       " ('上海', 25360),\n",
       " ('情况', 25345),\n",
       " ('赛季', 25298),\n",
       " ('该', 25147),\n",
       " ('产业', 25137),\n",
       " ('需要', 25109),\n",
       " ('安全', 25109),\n",
       " ('获得', 24968),\n",
       " ('12', 24920),\n",
       " ('俄罗斯', 24890),\n",
       " ('一些', 24838),\n",
       " ('改革', 24821),\n",
       " ('政策', 24727),\n",
       " ('推进', 24632),\n",
       " ('很', 24517),\n",
       " ('们', 24516),\n",
       " ('进入', 24355),\n",
       " ('2016', 24337),\n",
       " ('9', 24246),\n",
       " ('要求', 24119),\n",
       " ('亿元', 24073),\n",
       " ('网球', 24019),\n",
       " ('开展', 23983),\n",
       " ('新闻', 23971),\n",
       " ('我国', 23878),\n",
       " ('11', 23772),\n",
       " ('nnn', 23707),\n",
       " ('产品', 23535),\n",
       " ('包括', 23454),\n",
       " ('最', 23292),\n",
       " ('这些', 23240),\n",
       " ('当地', 23139),\n",
       " ('又', 23043),\n",
       " ('名', 23035),\n",
       " ('这个', 22989),\n",
       " ('做', 22857),\n",
       " ('推动', 22783),\n",
       " ('领域', 22735),\n",
       " ('发现', 22696),\n",
       " ('支持', 22586),\n",
       " ('英国', 22507),\n",
       " ('显示', 22505),\n",
       " ('管理', 22505),\n",
       " ('人员', 22467),\n",
       " ('岁', 22448),\n",
       " ('约', 22421),\n",
       " ('日本', 22324),\n",
       " ('科技', 22256),\n",
       " ('生活', 22251),\n",
       " ('香港', 22232),\n",
       " ('平台', 21872),\n",
       " ('发生', 21858),\n",
       " ('15', 21830),\n",
       " ('30', 21824),\n",
       " ('影响', 21592),\n",
       " ('未来', 21523),\n",
       " ('就是', 21399),\n",
       " ('用', 21197),\n",
       " ('德国', 21194),\n",
       " ('一名', 20770),\n",
       " ('发布', 20455),\n",
       " ('出现', 20394),\n",
       " ('使用', 20366),\n",
       " ('旅游', 20253),\n",
       " ('希望', 20234),\n",
       " ('来自', 20223),\n",
       " ('方式', 20114),\n",
       " ('正在', 20080),\n",
       " ('信息', 20021),\n",
       " ('23', 19945),\n",
       " ('孩子', 19929),\n",
       " ('了解', 19905),\n",
       " ('实施', 19824),\n",
       " ('13', 19808),\n",
       " ('计划', 19765),\n",
       " ('环境', 19453),\n",
       " ('学生', 19362),\n",
       " ('加强', 19357),\n",
       " ('部门', 19157),\n",
       " ('以来', 19120),\n",
       " ('超过', 19098),\n",
       " ('机构', 18984),\n",
       " ('你', 18963),\n",
       " ('介绍', 18922),\n",
       " ('去', 18867),\n",
       " ('生产', 18811),\n",
       " ('18', 18734),\n",
       " ('进一步', 18696),\n",
       " ('称', 18666),\n",
       " ('根据', 18450),\n",
       " ('分', 18425),\n",
       " ('21', 18385),\n",
       " ('19', 18331),\n",
       " ('参与', 18258),\n",
       " ('举办', 18245),\n",
       " ('传统', 18210),\n",
       " ('20162017', 18201),\n",
       " ('继续', 18197),\n",
       " ('14', 18176),\n",
       " ('完成', 18128),\n",
       " ('持续', 18117),\n",
       " ('0', 18108),\n",
       " ('提升', 18091),\n",
       " ('资金', 17903),\n",
       " ('系统', 17774),\n",
       " ('如果', 17753),\n",
       " ('对于', 17735),\n",
       " ('16', 17634),\n",
       " ('特朗普', 17632),\n",
       " ('冠军', 17595),\n",
       " ('行业', 17588),\n",
       " ('教育', 17501),\n",
       " ('主场', 17435),\n",
       " ('历史', 17309),\n",
       " ('家', 17170),\n",
       " ('高', 17158),\n",
       " ('共同', 17122),\n",
       " ('25', 17097),\n",
       " ('庆祝', 17044),\n",
       " ('小', 17036),\n",
       " ('其他', 17020),\n",
       " ('22', 17005),\n",
       " ('现在', 16991),\n",
       " ('法新', 16959),\n",
       " ('去年', 16931),\n",
       " ('欧新', 16918),\n",
       " ('17', 16910),\n",
       " ('路透', 16867),\n",
       " ('部分', 16858),\n",
       " ('国内', 16606),\n",
       " ('银行', 16517),\n",
       " ('有关', 16501),\n",
       " ('公开赛', 16477),\n",
       " ('集团', 16343),\n",
       " ('主席', 16293),\n",
       " ('出', 16258),\n",
       " ('号', 16251),\n",
       " ('调查', 16242),\n",
       " ('正式', 16184),\n",
       " ('不断', 16159),\n",
       " ('全面', 16132),\n",
       " ('曾', 16129),\n",
       " ('韩国', 16097),\n",
       " ('最大', 15986),\n",
       " ('新华', 15985),\n",
       " ('人民币', 15903),\n",
       " ('能力', 15847),\n",
       " ('建立', 15836),\n",
       " ('人们', 15824),\n",
       " ('所', 15816),\n",
       " ('万元', 15722),\n",
       " ('这样', 15643),\n",
       " ('提高', 15537),\n",
       " ('提出', 15509),\n",
       " ('代表', 15472),\n",
       " ('米', 15466),\n",
       " ('元', 15463),\n",
       " ('现场', 15419),\n",
       " ('再', 15397),\n",
       " ('首都', 15395),\n",
       " ('过', 15392),\n",
       " ('很多', 15280),\n",
       " ('24', 15225),\n",
       " ('展示', 15177),\n",
       " ('接受', 15141),\n",
       " ('金融', 15121),\n",
       " ('仍', 14980),\n",
       " ('当天', 14980),\n",
       " ('学校', 14927),\n",
       " ('造成', 14904),\n",
       " ('因为', 14902),\n",
       " ('游客', 14884),\n",
       " ('重点', 14852),\n",
       " ('价格', 14827),\n",
       " ('欧洲', 14822),\n",
       " ('之一', 14800),\n",
       " ('则', 14793),\n",
       " ('看', 14769),\n",
       " ('设计', 14688),\n",
       " ('增加', 14639),\n",
       " ('带来', 14590),\n",
       " ('促进', 14584),\n",
       " ('分别', 14581),\n",
       " ('关注', 14553),\n",
       " ('专家', 14520),\n",
       " ('关系', 14429),\n",
       " ('由于', 14416),\n",
       " ('内容', 14410),\n",
       " ('保护', 14390),\n",
       " ('达到', 14388),\n",
       " ('首次', 14280),\n",
       " ('报告', 14278),\n",
       " ('28', 14274),\n",
       " ('届', 14267),\n",
       " ('健康', 14245),\n",
       " ('成功', 14233),\n",
       " ('不同', 14226),\n",
       " ('副', 14225),\n",
       " ('学习', 14221),\n",
       " ('形成', 14189),\n",
       " ('双方', 14178),\n",
       " ('31', 14042),\n",
       " ('汽车', 14023),\n",
       " ('习近平', 14009),\n",
       " ('地方', 14004),\n",
       " ('各', 13997),\n",
       " ('拍摄', 13950),\n",
       " ('台湾', 13918),\n",
       " ('26', 13915),\n",
       " ('积极', 13905),\n",
       " ('之', 13901),\n",
       " ('位于', 13868),\n",
       " ('较', 13848),\n",
       " ('随着', 13846),\n",
       " ('规定', 13806),\n",
       " ('有限公司', 13790),\n",
       " ('战略', 13763),\n",
       " ('存在', 13752),\n",
       " ('群众', 13748),\n",
       " ('以上', 13730),\n",
       " ('27', 13729),\n",
       " ('还是', 13706),\n",
       " ('事件', 13634),\n",
       " ('风险', 13527),\n",
       " ('联合', 13498),\n",
       " ('近', 13460),\n",
       " ('网络', 13448),\n",
       " ('交流', 13442),\n",
       " ('达', 13362),\n",
       " ('业务', 13361),\n",
       " ('帮助', 13339),\n",
       " ('指出', 13314),\n",
       " ('宣布', 13306),\n",
       " ('占', 13249),\n",
       " ('此次', 13235),\n",
       " ('非常', 13194),\n",
       " ('期间', 13155),\n",
       " ('过程', 13148),\n",
       " ('一直', 13090),\n",
       " ('专业', 13085),\n",
       " ('起', 13022),\n",
       " ('品牌', 12968),\n",
       " ('决定', 12960),\n",
       " ('这种', 12938),\n",
       " ('需求', 12934),\n",
       " ('最终', 12926),\n",
       " ('却', 12916),\n",
       " ('区域', 12874),\n",
       " ('之后', 12848),\n",
       " ('工程', 12834),\n",
       " ('取得', 12825),\n",
       " ('不仅', 12802),\n",
       " ('一起', 12788),\n",
       " ('NBA', 12760),\n",
       " ('还有', 12729),\n",
       " ('江苏', 12699),\n",
       " ('利用', 12683),\n",
       " ('不是', 12664),\n",
       " ('资源', 12639),\n",
       " ('会议', 12628),\n",
       " ('这一', 12602),\n",
       " ('如何', 12569),\n",
       " ('篮球', 12561),\n",
       " ('巴黎', 12548),\n",
       " ('区', 12531),\n",
       " ('成立', 12522),\n",
       " ('目标', 12466),\n",
       " ('用户', 12462),\n",
       " ('时装周', 12439),\n",
       " ('综合', 12380),\n",
       " ('它', 12371),\n",
       " ('具有', 12344),\n",
       " ('特别', 12306),\n",
       " ('为了', 12285),\n",
       " ('按照', 12272),\n",
       " ('监管', 12271),\n",
       " ('广州', 12271),\n",
       " ('能够', 12265),\n",
       " ('自', 12243),\n",
       " ('新疆', 12221),\n",
       " ('正', 12212),\n",
       " ('基础', 12198),\n",
       " ('只', 12191),\n",
       " ('标准', 12188),\n",
       " ('关于', 12142),\n",
       " ('生态', 12136),\n",
       " ('因', 12085),\n",
       " ('29', 12074),\n",
       " ('基金', 12054),\n",
       " ('广东', 12018),\n",
       " ('左', 11998),\n",
       " ('走', 11979),\n",
       " ('铁路', 11979),\n",
       " ('启动', 11970),\n",
       " ('行动', 11904),\n",
       " ('不少', 11886),\n",
       " ('均', 11866),\n",
       " ('点', 11842),\n",
       " ('打造', 11842),\n",
       " ('互联网', 11836),\n",
       " ('近日', 11835),\n",
       " ('得到', 11792),\n",
       " ('共', 11769),\n",
       " ('英超', 11753),\n",
       " ('解决', 11733),\n",
       " ('预计', 11729),\n",
       " ('国', 11728),\n",
       " ('一次', 11701),\n",
       " ('最后', 11679),\n",
       " ('选择', 11664),\n",
       " ('规模', 11652),\n",
       " ('看到', 11635),\n",
       " ('作品', 11623),\n",
       " ('叙利亚', 11614),\n",
       " ('规划', 11607),\n",
       " ('水平', 11583),\n",
       " ('不能', 11562)]"
      ]
     },
     "execution_count": 60,
     "metadata": {},
     "output_type": "execute_result"
    }
   ],
   "source": [
    "from functools import reduce\n",
    "from operator import add, mul\n",
    "from collections import Counter\n",
    "\n",
    "words_count = Counter(TOKEN)\n",
    "words_count.most_common(500)"
   ]
  },
  {
   "cell_type": "code",
   "execution_count": 61,
   "metadata": {},
   "outputs": [
    {
     "data": {
      "text/plain": [
       "[<matplotlib.lines.Line2D at 0x1b4ef8402b0>]"
      ]
     },
     "execution_count": 61,
     "metadata": {},
     "output_type": "execute_result"
    },
    {
     "data": {
      "image/png": "[encoded data removed]",
      "text/plain": [
       "<Figure size 432x288 with 1 Axes>"
      ]
     },
     "metadata": {
      "needs_background": "light"
     },
     "output_type": "display_data"
    }
   ],
   "source": [
    "frequencies = [f for w, f in words_count.most_common(500)]\n",
    "x = [i for i in range(500)]\n",
    "%matplotlib inline\n",
    "import matplotlib.pyplot as plt\n",
    "plt.plot(x, frequencies)"
   ]
  },
  {
   "cell_type": "code",
   "execution_count": 62,
   "metadata": {},
   "outputs": [
    {
     "data": {
      "text/plain": [
       "[<matplotlib.lines.Line2D at 0x1b4f0623cc0>]"
      ]
     },
     "execution_count": 62,
     "metadata": {},
     "output_type": "execute_result"
    },
    {
     "data": {
      "image/png": "[encoded data removed]",
      "text/plain": [
       "<Figure size 432x288 with 1 Axes>"
      ]
     },
     "metadata": {
      "needs_background": "light"
     },
     "output_type": "display_data"
    }
   ],
   "source": [
    "import numpy as np\n",
    "plt.plot(x, np.log(frequencies))"
   ]
  },
  {
   "cell_type": "code",
   "execution_count": 63,
   "metadata": {},
   "outputs": [
    {
     "data": {
      "text/plain": [
       "0.0011462174213337233"
      ]
     },
     "execution_count": 63,
     "metadata": {},
     "output_type": "execute_result"
    }
   ],
   "source": [
    "def prob_1(word):\n",
    "    return words_count[word] / len(TOKEN)\n",
    "\n",
    "prob_1(\"我们\")"
   ]
  },
  {
   "cell_type": "code",
   "execution_count": 65,
   "metadata": {},
   "outputs": [
    {
     "data": {
      "text/plain": [
       "['此外自', '自本周', '本周6', '6月', '月12', '12日起', '日起除', '除小米', '小米手机', '手机6']"
      ]
     },
     "execution_count": 65,
     "metadata": {},
     "output_type": "execute_result"
    }
   ],
   "source": [
    "TOEKN = [str(t) for t in TOKEN]\n",
    "TOKEN_2_GRAM = [''.join(TOKEN[i:i + 2]) for i in range(len(TOKEN[:-2]))]\n",
    "TOKEN_2_GRAM[:10]"
   ]
  },
  {
   "cell_type": "code",
   "execution_count": 68,
   "metadata": {},
   "outputs": [],
   "source": [
    "words_count_2 = Counter(TOKEN_2_GRAM)\n",
    "def prob_2(word1, word2):\n",
    "    if word1 + word2 in words_count_2: return words_count_2[word1 + word2]/ len(TOKEN_2_GRAM)\n",
    "    else:\n",
    "        return 1/len(TOKEN_2_GRAM)"
   ]
  },
  {
   "cell_type": "code",
   "execution_count": 69,
   "metadata": {},
   "outputs": [
    {
     "data": {
      "text/plain": [
       "3.098121258193799e-05"
      ]
     },
     "execution_count": 69,
     "metadata": {},
     "output_type": "execute_result"
    }
   ],
   "source": [
    "prob_2(\"我们\", \"在\")"
   ]
  },
  {
   "cell_type": "code",
   "execution_count": 72,
   "metadata": {},
   "outputs": [
    {
     "data": {
      "text/plain": [
       "1.3488224022259134e-44"
      ]
     },
     "execution_count": 72,
     "metadata": {},
     "output_type": "execute_result"
    }
   ],
   "source": [
    "def get_probability(sentence):\n",
    "    words = cut(sentence)\n",
    "    sentence_pro = 1\n",
    "    for i, word in enumerate(words[:-1]):\n",
    "        next_ = words[i+1]\n",
    "        probability = prob_2(word, next_)\n",
    "        sentence_pro *= probability\n",
    "    return sentence_pro\n",
    "\n",
    "get_probability('小明今天抽奖抽到一台苹果手机')"
   ]
  },
  {
   "cell_type": "code",
   "execution_count": 74,
   "metadata": {},
   "outputs": [
    {
     "name": "stdout",
     "output_type": "stream",
     "text": [
      "sentence: 一个蓝色的蓝色的小猫看着一个小猫 with Prb: 1.9617956605600993e-53\n",
      "sentence: 这个蓝色的女人看见这个蓝色的篮球 with Prb: 1.2343832487333637e-51\n",
      "sentence: 这个小小的蓝色的好看的桌子听着一个小猫 with Prb: 2.083414101913885e-64\n",
      "sentence: 一个篮球看着这个蓝色的蓝色的篮球 with Prb: 2.660194915719495e-51\n",
      "sentence: 这个桌子听着这个好看的女人 with Prb: 2.8931798741176928e-46\n",
      "sentence: 这个桌子看着一个蓝色的桌子 with Prb: 7.61432001256564e-43\n",
      "sentence: 一个小猫看见一个篮球 with Prb: 5.468899785126343e-30\n",
      "sentence: 这个好看的好看的小猫看着这个好看的女人 with Prb: 1.0280709326822325e-65\n",
      "sentence: 一个小小的好看的篮球看着这个篮球 with Prb: 2.760157547438078e-47\n",
      "sentence: 一个篮球看着这个好看的篮球 with Prb: 4.282424106267131e-41\n"
     ]
    }
   ],
   "source": [
    "for sen in [generate(gram=example_grammar, target='sentence') for i in range(10)]:\n",
    "    print('sentence: {} with Prb: {}'.format(sen, get_probability(sen)))"
   ]
  },
  {
   "cell_type": "code",
   "execution_count": 77,
   "metadata": {},
   "outputs": [
    {
     "name": "stdout",
     "output_type": "stream",
     "text": [
      "今天晚上请你吃大餐，我们一起吃日料 is more possible\n",
      "---- 今天晚上请你吃大餐，我们一起吃日料 with probility 1.6916371218895416e-68\n",
      "---- 明天晚上请你吃大餐，我们一起吃苹果 with probility 1.240533889385664e-68\n",
      "真是一只好看的小猫 is more possible\n",
      "---- 真事一只好看的小猫 with probility 2.1681986202830525e-35\n",
      "---- 真是一只好看的小猫 with probility 9.92377440176051e-28\n",
      "今晚我去吃火锅 is more possible\n",
      "---- 今晚我去吃火锅 with probility 1.5957247219373802e-20\n",
      "---- 今晚火锅去吃我 with probility 1.0117464602483735e-28\n",
      "养乐多绿来一杯 is more possible\n",
      "---- 洋葱奶昔来一杯 with probility 3.1288720037987846e-23\n",
      "---- 养乐多绿来一杯 with probility 4.773581720053238e-16\n"
     ]
    }
   ],
   "source": [
    "need_compared = [\n",
    "    \"今天晚上请你吃大餐，我们一起吃日料 明天晚上请你吃大餐，我们一起吃苹果\",\n",
    "    \"真事一只好看的小猫 真是一只好看的小猫\",\n",
    "    \"今晚我去吃火锅 今晚火锅去吃我\",\n",
    "    \"洋葱奶昔来一杯 养乐多绿来一杯\"\n",
    "]\n",
    "\n",
    "for s in need_compared:\n",
    "    s1, s2 = s.split()\n",
    "    p1, p2 = get_probability(s1), get_probability(s2)\n",
    "    \n",
    "    better = s1 if p1 > p2 else s2\n",
    "    \n",
    "    print('{} is more possible'.format(better))\n",
    "    print('-'*4 + ' {} with probility {}'.format(s1, p1))\n",
    "    print('-'*4 + ' {} with probility {}'.format(s2, p2))"
   ]
  },
  {
   "cell_type": "code",
   "execution_count": null,
   "metadata": {},
   "outputs": [],
   "source": []
  }
 ],
 "metadata": {
  "kernelspec": {
   "display_name": "Python 3",
   "language": "python",
   "name": "python3"
  },
  "language_info": {
   "codemirror_mode": {
    "name": "ipython",
    "version": 3
   },
   "file_extension": ".py",
   "mimetype": "text/x-python",
   "name": "python",
   "nbconvert_exporter": "python",
   "pygments_lexer": "ipython3",
   "version": "3.7.0"
  }
 },
 "nbformat": 4,
 "nbformat_minor": 2
}
